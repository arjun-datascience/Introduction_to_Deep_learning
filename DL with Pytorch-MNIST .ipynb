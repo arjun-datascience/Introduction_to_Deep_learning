{
 "cells": [
  {
   "cell_type": "code",
   "execution_count": 90,
   "metadata": {
    "colab": {},
    "colab_type": "code",
    "id": "_17_ZnVDhCd0"
   },
   "outputs": [],
   "source": [
    "import torch\n",
    "import torch.nn as nn\n",
    "import torchvision.transforms as transforms\n",
    "import torchvision.datasets as dsets\n",
    "from torch import nn,optim\n",
    "import torch.nn.functional as F\n",
    "import numpy as np\n",
    "import pandas as pd"
   ]
  },
  {
   "cell_type": "code",
   "execution_count": 91,
   "metadata": {
    "colab": {
     "base_uri": "https://localhost:8080/",
     "height": 255
    },
    "colab_type": "code",
    "id": "lb2lrOr7hbdx",
    "outputId": "92158888-fb2a-491e-8462-0698f118e14e"
   },
   "outputs": [],
   "source": [
    "\n",
    "transform=transforms.Compose([transforms.ToTensor(),\n",
    "                             transforms.Normalize([0.5,0.5,0.5],[0.5,0.5,0.5])])\n",
    "trainset=datasets.MNIST('~/.pytorch/MNIST_data/',train=True,transform=transform,download=True)\n",
    "testset=datasets.MNIST('~/.pytorch/MNIST_data/',train=False,transform=transform,download=True)\n",
    "\n",
    "trainloader=torch.utils.data.DataLoader(trainset,batch_size=98,shuffle=True,num_workers=0)\n",
    "\n",
    "testloader=torch.utils.data.DataLoader(testset,batch_size=98,shuffle=True,num_workers=0)\n"
   ]
  },
  {
   "cell_type": "code",
   "execution_count": 93,
   "metadata": {
    "colab": {},
    "colab_type": "code",
    "id": "fD_LJ06Mh0re"
   },
   "outputs": [],
   "source": [
    "class Network(nn.Module):\n",
    "    def __init__(self):\n",
    "        super().__init__()\n",
    "        self.fc1 = nn.Linear(784, 98)\n",
    "        self.fc2 = nn.Linear(98, 30)\n",
    "        self.fc3 = nn.Linear(30, 10)\n",
    "        #self.fc4 = nn.Linear(30, 10)\n",
    "\n",
    "        # Dropout module with 0.2 drop probability\n",
    "        self.dropout = nn.Dropout(p=0.2)\n",
    "\n",
    "    def forward(self, x):\n",
    "        # make sure input tensor is flattened\n",
    "        x = x.view(x.shape[0], -1)\n",
    "\n",
    "        # Now with dropout\n",
    "        x = self.dropout(F.relu(self.fc1(x)))\n",
    "        x = self.dropout(F.relu(self.fc2(x)))\n",
    "        #x = self.dropout(F.relu(self.fc3(x)))\n",
    "\n",
    "        # output so no dropout here\n",
    "        x = F.log_softmax(self.fc3(x), dim=1)\n",
    "\n",
    "        return x\n",
    "        \n",
    "model=Network()\n",
    "optimizer=optim.Adam(model.parameters(),lr=0.001)\n",
    "criterion=nn.NLLLoss()"
   ]
  },
  {
   "cell_type": "code",
   "execution_count": 94,
   "metadata": {
    "colab": {
     "base_uri": "https://localhost:8080/",
     "height": 102
    },
    "colab_type": "code",
    "id": "OY0PFehch0ye",
    "outputId": "14b32fc1-32e2-4d66-da92-379c436b9699"
   },
   "outputs": [
    {
     "name": "stdout",
     "output_type": "stream",
     "text": [
      "Epoch: 1/10..  Training Loss: 0.573..  Test Loss: 0.212..  Test Accuracy: 0.937\n",
      "Epoch: 2/10..  Training Loss: 0.266..  Test Loss: 0.158..  Test Accuracy: 0.952\n",
      "Epoch: 3/10..  Training Loss: 0.200..  Test Loss: 0.129..  Test Accuracy: 0.961\n",
      "Epoch: 4/10..  Training Loss: 0.170..  Test Loss: 0.118..  Test Accuracy: 0.966\n",
      "Epoch: 5/10..  Training Loss: 0.146..  Test Loss: 0.103..  Test Accuracy: 0.970\n",
      "Epoch: 6/10..  Training Loss: 0.133..  Test Loss: 0.098..  Test Accuracy: 0.971\n",
      "Epoch: 7/10..  Training Loss: 0.121..  Test Loss: 0.090..  Test Accuracy: 0.975\n",
      "Epoch: 8/10..  Training Loss: 0.112..  Test Loss: 0.085..  Test Accuracy: 0.975\n",
      "Epoch: 9/10..  Training Loss: 0.105..  Test Loss: 0.082..  Test Accuracy: 0.974\n",
      "Epoch: 10/10..  Training Loss: 0.098..  Test Loss: 0.079..  Test Accuracy: 0.978\n",
      "Total no. of parameters :  80210\n"
     ]
    }
   ],
   "source": [
    "\n",
    "epochs=10\n",
    "train_losses,test_losses=[],[]\n",
    "for e in range(epochs):\n",
    "    running_loss=0\n",
    "    for images,labels in trainloader:\n",
    "        optimizer.zero_grad()\n",
    "        log_ps=model(images)\n",
    "        loss=criterion(log_ps,labels)\n",
    "        loss.backward()\n",
    "        optimizer.step()\n",
    "        running_loss+=loss.item()\n",
    "        \n",
    "    else:\n",
    "        test_loss=0\n",
    "        accuracy=0\n",
    "        \n",
    "        with torch.no_grad():\n",
    "            model.eval()\n",
    "            for images,labels in testloader:\n",
    "                log_ps=model(images)\n",
    "                test_loss+=criterion(log_ps,labels)\n",
    "                ps=torch.exp(log_ps)\n",
    "                top_p,top_class=ps.topk(1,dim=1)\n",
    "                equals=top_class==labels.view(*top_class.shape)\n",
    "                accuracy+=torch.mean(equals.type(torch.FloatTensor))\n",
    "        model.train()\n",
    "        train_losses.append(running_loss/len(trainloader))\n",
    "        test_losses.append(test_loss/len(testloader))\n",
    "\n",
    "        print(\"Epoch: {}/{}.. \".format(e+1, epochs),\n",
    "              \"Training Loss: {:.3f}.. \".format(running_loss/len(trainloader)),\n",
    "              \"Test Loss: {:.3f}.. \".format(test_loss/len(testloader)),\n",
    "              \"Test Accuracy: {:.3f}\".format(accuracy/len(testloader)))\n",
    "pytorch_total_params = sum(p.numel() for p in model.parameters())\n",
    "print(\"Total no. of parameters : \",pytorch_total_params )        \n",
    "        "
   ]
  }
 ],
 "metadata": {
  "colab": {
   "collapsed_sections": [],
   "name": "MNIST_assignment.ipynb",
   "provenance": []
  },
  "kernelspec": {
   "display_name": "Python 3",
   "language": "python",
   "name": "python3"
  },
  "language_info": {
   "codemirror_mode": {
    "name": "ipython",
    "version": 3
   },
   "file_extension": ".py",
   "mimetype": "text/x-python",
   "name": "python",
   "nbconvert_exporter": "python",
   "pygments_lexer": "ipython3",
   "version": "3.7.3"
  }
 },
 "nbformat": 4,
 "nbformat_minor": 1
}
